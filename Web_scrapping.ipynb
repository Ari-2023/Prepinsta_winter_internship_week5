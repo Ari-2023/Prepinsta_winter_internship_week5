{
  "nbformat": 4,
  "nbformat_minor": 0,
  "metadata": {
    "colab": {
      "provenance": [],
      "authorship_tag": "ABX9TyPKR/01yNzlDrOSlZP4wOey",
      "include_colab_link": true
    },
    "kernelspec": {
      "name": "python3",
      "display_name": "Python 3"
    },
    "language_info": {
      "name": "python"
    }
  },
  "cells": [
    {
      "cell_type": "markdown",
      "metadata": {
        "id": "view-in-github",
        "colab_type": "text"
      },
      "source": [
        "<a href=\"https://colab.research.google.com/github/Ari-2023/Prepinsta_winter_internship_week5/blob/main/Web_scrapping.ipynb\" target=\"_parent\"><img src=\"https://colab.research.google.com/assets/colab-badge.svg\" alt=\"Open In Colab\"/></a>"
      ]
    },
    {
      "cell_type": "code",
      "source": [
        "#import libraries\n",
        "\n",
        "import requests  #send req to grab this web page\n",
        "from bs4 import BeautifulSoup\n",
        "import pandas as pd"
      ],
      "metadata": {
        "id": "NfR1_OtmTe9r"
      },
      "execution_count": 2,
      "outputs": []
    },
    {
      "cell_type": "code",
      "execution_count": 9,
      "metadata": {
        "id": "BewcF2hKTVAS"
      },
      "outputs": [],
      "source": [
        "books = []\n",
        "\n",
        "for i in range(1,20):\n",
        "  url = f\"https://books.toscrape.com/catalogue/page-{i}.html\"\n",
        "  response = requests.get(url)\n",
        "  response = response.content # if i run response you would see a huge binary so i need to turn this into HTML code now this is where BeautifulSoup comes in\n",
        "  soup = BeautifulSoup(response, 'html.parser')\n",
        "  ol = soup.find('ol')  # its going to inside the soup and find the 1st order list\n",
        "  articles = ol.find_all('article', class_='product_pod')   # we need to find all the articles, and i use class_ because it is a CSS class\n",
        "  for article in articles:\n",
        "    image = article.find('img')\n",
        "    title = image.attrs['alt']\n",
        "    href = article.find('a')['href']\n",
        "    full_url = f'http://{href}'\n",
        "    starTag = article.find('p')\n",
        "    star = starTag['class'][1]\n",
        "    price = article.find('p', class_='price_color').text\n",
        "    # price = float(price[1:])\n",
        "    books.append([title, star, price, full_url])\n",
        "\n",
        "\n"
      ]
    },
    {
      "cell_type": "code",
      "source": [
        "df = pd.DataFrame(books, columns=['Title', 'Star Rating', 'Price', 'Link'])\n",
        "df.to_csv('books.csv')"
      ],
      "metadata": {
        "id": "WHa7-W3YTZk5"
      },
      "execution_count": 10,
      "outputs": []
    }
  ]
}